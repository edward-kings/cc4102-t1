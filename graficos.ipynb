{
 "cells": [
  {
   "cell_type": "markdown",
   "metadata": {},
   "source": [
    "# Graficos"
   ]
  },
  {
   "cell_type": "code",
   "execution_count": null,
   "metadata": {},
   "outputs": [],
   "source": [
    "import pandas as pd\n",
    "import numpy as np\n",
    "import seaborn as sns\n",
    "import matplotlib.pyplot as plt\n",
    "import scipy.stats as st\n",
    "from scipy.stats import linregress\n",
    "import csv"
   ]
  },
  {
   "cell_type": "code",
   "execution_count": null,
   "metadata": {},
   "outputs": [],
   "source": [
    "dataframe = pd.read_csv('output.csv', sep=';')\n",
    "\n",
    "tiempos_promedio = []\n",
    "valor_inicial = 100\n",
    "\n",
    "for i in range(16):\n",
    "    tiempos_promedio.append(float(dataframe.iloc[valor_inicial, 0])/100)\n",
    "    valor_inicial += 102\n",
    "\n",
    "etiquetas_x = [f'2^{i}' for i in range(10, 26)]\n",
    "\n",
    "plt.figure(figsize=(10, 6))\n",
    "plt.plot(etiquetas_x, tiempos_promedio, marker='o', linestyle='-')\n",
    "plt.xlabel('Tamaño de entrada')\n",
    "plt.ylabel('Tiempos promedio (µs)')\n",
    "plt.title('Tiempos promedio en función del tamaño de entrada')\n",
    "plt.xticks(rotation=45)\n",
    "plt.tight_layout()\n",
    "\n",
    "plt.savefig('resultados/grafico_tiempos_promedio.pdf')\n",
    "plt.show()"
   ]
  },
  {
   "cell_type": "code",
   "execution_count": null,
   "metadata": {},
   "outputs": [],
   "source": [
    "suma_ios = []\n",
    "valor_columna = 100\n",
    "\n",
    "for i in range(16):\n",
    "    suma_ios.append(int(dataframe.iloc[valor_columna, 1]))\n",
    "    valor_columna += 102\n",
    "\n",
    "etiquetas_x = [f'2^{i}' for i in range(10, 26)]\n",
    "\n",
    "plt.figure(figsize=(10, 6))\n",
    "plt.plot(etiquetas_x, suma_ios, marker='o', linestyle='-')\n",
    "plt.xlabel('Tamaño de entrada')\n",
    "plt.ylabel('I/Os (suma de todas las consultas)')\n",
    "plt.title('I/Os')\n",
    "plt.xticks(rotation=45)\n",
    "plt.tight_layout()\n",
    "\n",
    "plt.savefig('resultados/grafico_ios.pdf')\n",
    "plt.show()"
   ]
  }
 ],
 "metadata": {
  "kernelspec": {
   "display_name": "Python 3",
   "language": "python",
   "name": "python3"
  },
  "language_info": {
   "codemirror_mode": {
    "name": "ipython",
    "version": 3
   },
   "file_extension": ".py",
   "mimetype": "text/x-python",
   "name": "python",
   "nbconvert_exporter": "python",
   "pygments_lexer": "ipython3",
   "version": "3.11.2"
  },
  "orig_nbformat": 4
 },
 "nbformat": 4,
 "nbformat_minor": 2
}
