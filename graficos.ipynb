{
 "cells": [
  {
   "cell_type": "markdown",
   "metadata": {},
   "source": [
    "# Graficos"
   ]
  },
  {
   "cell_type": "code",
   "execution_count": null,
   "metadata": {},
   "outputs": [],
   "source": [
    "import pandas as pd\n",
    "import numpy as np\n",
    "import seaborn as sns\n",
    "import matplotlib.pyplot as plt\n",
    "import scipy.stats as st\n",
    "from scipy.stats import linregress\n",
    "import csv"
   ]
  },
  {
   "cell_type": "code",
   "execution_count": null,
   "metadata": {},
   "outputs": [],
   "source": [
    "dataframe = pd.read_csv('output3.csv', sep=';')\n",
    "\n",
    "tiempos_promedio_nx = []\n",
    "tiempos_promedio_ht = []\n",
    "tiempos_promedio_str = []\n",
    "valor_inicial = 100\n",
    "\n",
    "for i in range(13):\n",
    "    tiempos_promedio_nx.append(float(dataframe.iloc[valor_inicial, 1])/100)\n",
    "    tiempos_promedio_ht.append(float(dataframe.iloc[valor_inicial, 3])/100)\n",
    "    tiempos_promedio_str.append(float(dataframe.iloc[valor_inicial, 5])/100)\n",
    "    valor_inicial += 102\n",
    "\n",
    "etiquetas_x = [f'2^{i}' for i in range(10, 23)]\n",
    "\n",
    "plt.figure(figsize=(16, 26))\n",
    "plt.plot(etiquetas_x, tiempos_promedio_nx, marker='o', color='b', linestyle='-', label='Método 1: Nearest X')\n",
    "plt.plot(etiquetas_x, tiempos_promedio_ht, marker='o', color='r', linestyle=':', label='Método 2: Hilbert R-tree')\n",
    "plt.plot(etiquetas_x, tiempos_promedio_str, marker='o', color='k', linestyle='--', label='Método 3: STR')\n",
    "plt.legend()\n",
    "plt.xlabel('Tamaño de entrada de los datos')\n",
    "plt.ylabel('Tiempo de búsqueda promedio (µs)')\n",
    "plt.title('Tiempos de búsqueda promedio de rectángulos en función del tamaño de entrada')\n",
    "plt.xticks(rotation=45)\n",
    "plt.tight_layout()\n",
    "\n",
    "\n",
    "\n",
    "plt.savefig('resultados/grafico_tiempos_promedio.pdf')\n",
    "plt.show()"
   ]
  },
  {
   "cell_type": "code",
   "execution_count": null,
   "metadata": {},
   "outputs": [],
   "source": [
    "ios_promedio_nx = []\n",
    "ios_promedio_ht = []\n",
    "ios_promedio_str = []\n",
    "valor_columna = 100\n",
    "\n",
    "for i in range(16):\n",
    "    ios_promedio_nx.append(int(dataframe.iloc[valor_columna, 2])/100)\n",
    "    ios_promedio_ht.append(int(dataframe.iloc[valor_columna, 4])/100)\n",
    "    ios_promedio_str.append(int(dataframe.iloc[valor_columna, 6])/100)\n",
    "    valor_columna += 102\n",
    "\n",
    "etiquetas_x = [f'2^{i}' for i in range(10, 26)]\n",
    "\n",
    "plt.figure(figsize=(10, 6))\n",
    "plt.plot(etiquetas_x, ios_promedio_nx, marker='o', color='b', linestyle='-', label='Método 1: Nearest X')\n",
    "plt.plot(etiquetas_x, ios_promedio_ht, marker='o', color='r', linestyle=':', label='Método 2: Hilbert R-tree')\n",
    "plt.plot(etiquetas_x, ios_promedio_str, marker='o', color='k', linestyle='--', label='Método 3: STR')\n",
    "plt.legend()\n",
    "plt.xlabel('Tamaño de entrada de los datos')\n",
    "plt.ylabel('I/Os promedio de la consulta')\n",
    "plt.title('Cantidad de accesos promedio a bloques de disco de la búsqueda en función del tamaño de entrada')\n",
    "\n",
    "\n",
    "plt.xticks(rotation=45)\n",
    "plt.tight_layout()\n",
    "\n",
    "\n",
    "plt.savefig('resultados/grafico_ios.pdf')\n",
    "plt.show()"
   ]
  }
 ],
 "metadata": {
  "kernelspec": {
   "display_name": "Python 3",
   "language": "python",
   "name": "python3"
  },
  "language_info": {
   "codemirror_mode": {
    "name": "ipython",
    "version": 3
   },
   "file_extension": ".py",
   "mimetype": "text/x-python",
   "name": "python",
   "nbconvert_exporter": "python",
   "pygments_lexer": "ipython3",
   "version": "3.11.2"
  },
  "orig_nbformat": 4
 },
 "nbformat": 4,
 "nbformat_minor": 2
}
